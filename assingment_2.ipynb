{
  "cells": [
    {
      "cell_type": "markdown",
      "metadata": {
        "id": "view-in-github",
        "colab_type": "text"
      },
      "source": [
        "<a href=\"https://colab.research.google.com/github/Nishnat14/Big-Data-MCA-/blob/main/assingment_1.ipynb\" target=\"_parent\"><img src=\"https://colab.research.google.com/assets/colab-badge.svg\" alt=\"Open In Colab\"/></a>"
      ]
    },
    {
      "cell_type": "code",
      "execution_count": 2,
      "id": "e439772e-46a0-4414-9488-4fa115f1dffd",
      "metadata": {
        "colab": {
          "base_uri": "https://localhost:8080/"
        },
        "id": "e439772e-46a0-4414-9488-4fa115f1dffd",
        "outputId": "c5ee4a78-9356-4480-ab0f-79c52ece15c7"
      },
      "outputs": [
        {
          "output_type": "stream",
          "name": "stdout",
          "text": [
            "[5 4 6 3 2 1]\n"
          ]
        }
      ],
      "source": [
        "#1\n",
        "import numpy as np\n",
        "arr = np.array([1, 2, 3, 6, 4, 5])\n",
        "arr_rev=arr[::-1]\n",
        "print(arr_rev)"
      ]
    },
    {
      "cell_type": "code",
      "execution_count": null,
      "id": "fb87f050-8b5f-4c50-a728-3ff566dca029",
      "metadata": {
        "id": "fb87f050-8b5f-4c50-a728-3ff566dca029",
        "outputId": "a315c678-cb2b-4701-ecdb-2abe1046a44d"
      },
      "outputs": [
        {
          "name": "stdout",
          "output_type": "stream",
          "text": [
            "[[ True  True]\n",
            " [ True  True]]\n"
          ]
        }
      ],
      "source": [
        "#2\n",
        "arr1 = np.array([[1, 2], [3, 4]])\n",
        "arr2 = np.array([[1, 2], [3, 4]])\n",
        "print(arr1==arr2)"
      ]
    },
    {
      "cell_type": "code",
      "execution_count": 5,
      "id": "c2da8de4-2b7f-4278-a602-12f98481c468",
      "metadata": {
        "colab": {
          "base_uri": "https://localhost:8080/"
        },
        "id": "c2da8de4-2b7f-4278-a602-12f98481c468",
        "outputId": "e11242a2-6bfe-47ea-ca39-320ed4a65982"
      },
      "outputs": [
        {
          "output_type": "stream",
          "name": "stdout",
          "text": [
            "Number most frequent in array x: 1\n",
            "Indexes:\n",
            "0 5 7 8 9 \n",
            "Number most frequent in array y: 1\n",
            "Indexes:\n",
            "0 1 2 "
          ]
        }
      ],
      "source": [
        "#3\n",
        "\n",
        "import numpy as np\n",
        "def number(arr):\n",
        "  maxCount=0\n",
        "  for i in range(len(arr)):\n",
        "    count=1\n",
        "    for j in range(i+1,len(arr)):\n",
        "      if arr[i]==arr[j]:\n",
        "        count=count+1\n",
        "    if(maxCount<count):\n",
        "      maxCount=count\n",
        "      num=arr[i]\n",
        "  return num\n",
        "\n",
        "\n",
        "x=np.array([1,2,3,4,5,1,2,1,1,1])\n",
        "y=np.array([1,1,1,2,3,4,2,4,3,3])\n",
        "num1=number(x)    #most frequent number in array x\n",
        "num2=number(y)    #most frequent number in array y\n",
        "print(\"Number most frequent in array x:\",num1)\n",
        "print(\"Indexes:\")\n",
        "for i in range(len(x)):\n",
        "  if x[i]==num1:\n",
        "    print(i,end=' ')\n",
        "print(\"\\nNumber most frequent in array y:\",num2)\n",
        "print(\"Indexes:\")\n",
        "for i in range(len(y)):\n",
        "  if y[i]==num2:\n",
        "    print(i,end=' ')"
      ]
    },
    {
      "cell_type": "code",
      "execution_count": null,
      "id": "d87e960f-2266-46f8-846b-07d96d97e0d1",
      "metadata": {
        "id": "d87e960f-2266-46f8-846b-07d96d97e0d1",
        "outputId": "559edee2-ca6e-42ff-a6cb-2a18e48fc71b"
      },
      "outputs": [
        {
          "name": "stdout",
          "output_type": "stream",
          "text": [
            "45\n",
            "[[14]\n",
            " [16]\n",
            " [15]]\n",
            "[[20  9 16]]\n"
          ]
        }
      ],
      "source": [
        " gfg = np.matrix('[4, 1, 9; 12, 3, 1; 4, 5, 6]')\n",
        "addition=np.sum(gfg)\n",
        "print(addition)\n",
        "add_row=np.sum(gfg,axis=1)\n",
        "print(add_row)\n",
        "add_col=np.sum(gfg,axis=0)\n",
        "print(add_col)"
      ]
    },
    {
      "cell_type": "code",
      "execution_count": null,
      "id": "e15ad829-9dac-4d7a-a894-b949ab81687d",
      "metadata": {
        "id": "e15ad829-9dac-4d7a-a894-b949ab81687d"
      },
      "outputs": [],
      "source": []
    }
  ],
  "metadata": {
    "kernelspec": {
      "display_name": "Python 3 (ipykernel)",
      "language": "python",
      "name": "python3"
    },
    "language_info": {
      "codemirror_mode": {
        "name": "ipython",
        "version": 3
      },
      "file_extension": ".py",
      "mimetype": "text/x-python",
      "name": "python",
      "nbconvert_exporter": "python",
      "pygments_lexer": "ipython3",
      "version": "3.11.4"
    },
    "colab": {
      "provenance": [],
      "include_colab_link": true
    }
  },
  "nbformat": 4,
  "nbformat_minor": 5
}
